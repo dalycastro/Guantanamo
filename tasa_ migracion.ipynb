{
 "cells": [
  {
   "cell_type": "code",
   "execution_count": 4,
   "id": "16d7d77d-09ae-49f6-8c01-63655bac9f91",
   "metadata": {
    "tags": []
   },
   "outputs": [
    {
     "name": "stdout",
     "output_type": "stream",
     "text": [
      "     Ano Saldo migratorio interno Tasa de migracion interna  \\\n",
      "0   2011                  - 3 350                       6,6   \n",
      "1   2012                  - 3 938                      -7.8   \n",
      "2   2013                  - 3 618                        -7   \n",
      "3   2014                  - 3 336                      -6.5   \n",
      "4   2015                  - 4 837                      -9.4   \n",
      "5   2016                  - 4 693                      -9.1   \n",
      "6   2017                  - 4 400                      -8.6   \n",
      "7   2018                  - 4 419                      -8.7   \n",
      "8   2019                  - 4 070                        -8   \n",
      "9   2020                  - 1 959                      -3.9   \n",
      "10  2021                  - 2 525                        -5   \n",
      "11  2022                  - 3 882                      -7.7   \n",
      "\n",
      "    Saldo migratorio externo  Tasa de migracion externa  \n",
      "0                       -747                       -1.5  \n",
      "1                       -684                       -1.4  \n",
      "2                         33                        0.1  \n",
      "3                        186                        0.4  \n",
      "4                       -328                       -0.6  \n",
      "5                       -551                       -1.1  \n",
      "6                       -341                       -0.7  \n",
      "7                       -284                       -0.6  \n",
      "8                       -206                       -0.4  \n",
      "9                        -81                       -0.2  \n",
      "10                       -53                       -0.1  \n",
      "11                       -14                        0.0  \n"
     ]
    }
   ],
   "source": [
    " import pandas as pd \n",
    " df=pd.read_csv('D:\\\\Ttrabajo de\\\\tasa.csv')\n",
    "print(df)\n",
    "    "
   ]
  },
  {
   "cell_type": "code",
   "execution_count": 5,
   "id": "36470d43",
   "metadata": {},
   "outputs": [
    {
     "name": "stdout",
     "output_type": "stream",
     "text": [
      "C:\\Users\\Admin\n"
     ]
    }
   ],
   "source": [
    "import os\n",
    "print(os.path.abspath('.'))\n"
   ]
  },
  {
   "cell_type": "code",
   "execution_count": null,
   "id": "e2cb0b21",
   "metadata": {},
   "outputs": [],
   "source": []
  },
  {
   "cell_type": "code",
   "execution_count": null,
   "id": "5337ca73",
   "metadata": {},
   "outputs": [],
   "source": []
  }
 ],
 "metadata": {
  "kernelspec": {
   "display_name": "Python 3 (ipykernel)",
   "language": "python",
   "name": "python3"
  },
  "language_info": {
   "codemirror_mode": {
    "name": "ipython",
    "version": 3
   },
   "file_extension": ".py",
   "mimetype": "text/x-python",
   "name": "python",
   "nbconvert_exporter": "python",
   "pygments_lexer": "ipython3",
   "version": "3.11.5"
  }
 },
 "nbformat": 4,
 "nbformat_minor": 5
}
